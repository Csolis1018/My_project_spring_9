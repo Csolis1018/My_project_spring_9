{
 "cells": [
  {
   "cell_type": "code",
   "execution_count": 1,
   "metadata": {},
   "outputs": [],
   "source": [
    "import pandas as pd\n",
    "from sklearn.model_selection import train_test_split\n",
    "from sklearn.tree import DecisionTreeClassifier\n",
    "from sklearn.ensemble import RandomForestClassifier\n",
    "from sklearn.linear_model import LogisticRegression\n",
    "from sklearn.metrics import accuracy_score\n",
    "from sklearn.dummy import DummyClassifier"
   ]
  },
  {
   "cell_type": "code",
   "execution_count": 2,
   "metadata": {},
   "outputs": [],
   "source": [
    "df = pd.read_csv('/datasets/users_behavior.csv')"
   ]
  },
  {
   "cell_type": "code",
   "execution_count": 3,
   "metadata": {},
   "outputs": [],
   "source": [
    "x = df.drop('is_ultra', axis=1)\n",
    "y = df['is_ultra']"
   ]
  },
  {
   "cell_type": "code",
   "execution_count": 4,
   "metadata": {},
   "outputs": [],
   "source": [
    "x_train, x_temp, y_train, y_temp = train_test_split(x,y, test_size=0.4, random_state=12345)\n",
    "x_valid, x_test, y_valid, y_test = train_test_split(x_temp, y_temp, test_size=0.5, random_state=12345)"
   ]
  },
  {
   "cell_type": "code",
   "execution_count": 5,
   "metadata": {},
   "outputs": [],
   "source": [
    "\n",
    "best_model = None\n",
    "best_accuracy = 0\n",
    "results = {}\n"
   ]
  },
  {
   "cell_type": "code",
   "execution_count": 6,
   "metadata": {},
   "outputs": [],
   "source": [
    "# Arbol de desicion\n",
    "for depth in range (1,11):\n",
    "    model = DecisionTreeClassifier(max_depth=depth, random_state=12345)\n",
    "    model.fit(x_train, y_train)\n",
    "    predictions = model.predict(x_valid)\n",
    "    acc = accuracy_score(y_valid, predictions)\n",
    "    results[f'DesicionTree_depth_{depth}'] = acc\n",
    "    if acc > best_accuracy:\n",
    "        best_accuracy = acc\n",
    "        best_model = model"
   ]
  },
  {
   "cell_type": "code",
   "execution_count": 7,
   "metadata": {},
   "outputs": [],
   "source": [
    "# Bosque aleatorio\n",
    "for est in [10, 50, 100, 200]:\n",
    "    model = RandomForestClassifier(n_estimators=est, random_state=12345)\n",
    "    model.fit(x_train, y_train)\n",
    "    predictions = model.predict(x_valid)\n",
    "    acc = accuracy_score(y_valid, predictions)\n",
    "    results[f'RandomForest_{est}'] = acc\n",
    "    if acc > best_accuracy:\n",
    "        best_accuracy = acc\n",
    "        best_model = model"
   ]
  },
  {
   "cell_type": "code",
   "execution_count": 8,
   "metadata": {},
   "outputs": [],
   "source": [
    "# Regresion logistica\n",
    "model = LogisticRegression(solver='lbfgs', max_iter=1000, random_state = 12345)\n",
    "model.fit(x_train, y_train)\n",
    "predictions = model.predict(x_valid)\n",
    "acc = accuracy_score(y_valid, predictions)\n",
    "results['LogisticRegression'] = acc\n",
    "if acc > best_accuracy:\n",
    "    best_accuracy = acc\n",
    "    best_model = model"
   ]
  },
  {
   "cell_type": "code",
   "execution_count": 9,
   "metadata": {},
   "outputs": [
    {
     "name": "stdout",
     "output_type": "stream",
     "text": [
      "Resultados en validacion:\n",
      "DesicionTree_depth_1: 0.7543\n",
      "DesicionTree_depth_2: 0.7823\n",
      "DesicionTree_depth_3: 0.7854\n",
      "DesicionTree_depth_4: 0.7792\n",
      "DesicionTree_depth_5: 0.7792\n",
      "DesicionTree_depth_6: 0.7838\n",
      "DesicionTree_depth_7: 0.7823\n",
      "DesicionTree_depth_8: 0.7792\n",
      "DesicionTree_depth_9: 0.7823\n",
      "DesicionTree_depth_10: 0.7745\n",
      "RandomForest_10: 0.7854\n",
      "RandomForest_50: 0.7916\n",
      "RandomForest_100: 0.7854\n",
      "RandomForest_200: 0.7869\n",
      "LogisticRegression: 0.7107\n"
     ]
    }
   ],
   "source": [
    "print(\"Resultados en validacion:\")\n",
    "for name, acc in results.items():\n",
    "    print(f'{name}: {acc:.4f}')"
   ]
  },
  {
   "cell_type": "code",
   "execution_count": 10,
   "metadata": {},
   "outputs": [
    {
     "name": "stdout",
     "output_type": "stream",
     "text": [
      "\n",
      "Mejor modelo: RandomForestClassifier\n",
      "Accuracy en validación: 0.7916018662519441\n",
      "Accuracy en prueba: 0.7931570762052877\n"
     ]
    }
   ],
   "source": [
    "test_predictions = best_model.predict(x_test)\n",
    "test_accuracy = accuracy_score(y_test, test_predictions)\n",
    "\n",
    "print(\"\\nMejor modelo:\", type(best_model).__name__)\n",
    "print(\"Accuracy en validación:\", best_accuracy)\n",
    "print(\"Accuracy en prueba:\", test_accuracy)"
   ]
  },
  {
   "cell_type": "code",
   "execution_count": 14,
   "metadata": {},
   "outputs": [
    {
     "name": "stdout",
     "output_type": "stream",
     "text": [
      "Accuracy del modelo dummy: 0.6842923794712286\n",
      "Accuracy del mejor modelo: 0.7931570762052877\n"
     ]
    }
   ],
   "source": [
    "dummy = DummyClassifier(strategy=\"most_frequent\")\n",
    "dummy.fit(x_train, y_train)\n",
    "dummy_predictions = dummy.predict(x_test)\n",
    "dummy_accuracy = accuracy_score(y_test, dummy_predictions)\n",
    "\n",
    "print(\"Accuracy del modelo dummy:\", dummy_accuracy)\n",
    "print(\"Accuracy del mejor modelo:\", test_accuracy)"
   ]
  }
 ],
 "metadata": {
  "kernelspec": {
   "display_name": "Python 3 (ipykernel)",
   "language": "python",
   "name": "python3"
  },
  "language_info": {
   "codemirror_mode": {
    "name": "ipython",
    "version": 3
   },
   "file_extension": ".py",
   "mimetype": "text/x-python",
   "name": "python",
   "nbconvert_exporter": "python",
   "pygments_lexer": "ipython3",
   "version": "3.9.23"
  }
 },
 "nbformat": 4,
 "nbformat_minor": 4
}
